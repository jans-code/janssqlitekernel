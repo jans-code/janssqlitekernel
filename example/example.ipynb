{
 "cells": [
  {
   "cell_type": "code",
   "execution_count": 1,
   "id": "7a424fac-db67-41a0-96ee-ea055425e09d",
   "metadata": {
    "tags": []
   },
   "outputs": [
    {
     "name": "stdout",
     "output_type": "stream",
     "text": [
      "Query OK"
     ]
    }
   ],
   "source": [
    "CREATE TABLE contact (\n",
    "    id INT UNSIGNED PRIMARY KEY NOT NULL,\n",
    "    name VARCHAR(50) NOT NULL,\n",
    "    age SMALLINT UNSIGNED NOT NULL\n",
    ");"
   ]
  },
  {
   "cell_type": "code",
   "execution_count": 2,
   "id": "e38223a6-0910-4cc0-91cf-df7f0632bed1",
   "metadata": {
    "tags": []
   },
   "outputs": [
    {
     "name": "stdout",
     "output_type": "stream",
     "text": [
      "Query OK"
     ]
    }
   ],
   "source": [
    "INSERT INTO contact (id, name, age)\n",
    "VALUES (1 , 'Jan', 40);"
   ]
  },
  {
   "cell_type": "code",
   "execution_count": 3,
   "id": "b694616a-d2f8-418c-a973-c6601650fb50",
   "metadata": {
    "tags": []
   },
   "outputs": [
    {
     "name": "stdout",
     "output_type": "stream",
     "text": [
      "┌────┬──────┬─────┐\n",
      "│ id │ name │ age │\n",
      "├────┼──────┼─────┤\n",
      "│ 1  │ Jan  │ 40  │\n",
      "└────┴──────┴─────┘\n"
     ]
    }
   ],
   "source": [
    "SELECT * FROM contact;"
   ]
  },
  {
   "cell_type": "code",
   "execution_count": 4,
   "id": "44950e8f-9612-4a40-bb31-0ba595f8020f",
   "metadata": {
    "tags": []
   },
   "outputs": [
    {
     "name": "stdout",
     "output_type": "stream",
     "text": [
      "Query OK"
     ]
    }
   ],
   "source": [
    ".mode json"
   ]
  },
  {
   "cell_type": "code",
   "execution_count": 5,
   "id": "0350fad4-e66f-4f7e-ad7f-16c50d0f0dd0",
   "metadata": {
    "tags": []
   },
   "outputs": [
    {
     "name": "stdout",
     "output_type": "stream",
     "text": [
      "[{\"id\":1,\"name\":\"Jan\",\"age\":40}]\n"
     ]
    }
   ],
   "source": [
    "SELECT * FROM contact;"
   ]
  }
 ],
 "metadata": {
  "kernelspec": {
   "display_name": "SQLite3",
   "language": "",
   "name": "janssqlitekernel"
  },
  "language_info": {
   "file_extension": ".sql",
   "mimetype": "application/sql",
   "name": "sqlite3"
  }
 },
 "nbformat": 4,
 "nbformat_minor": 5
}
